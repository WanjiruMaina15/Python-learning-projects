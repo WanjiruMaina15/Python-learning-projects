{
  "nbformat": 4,
  "nbformat_minor": 0,
  "metadata": {
    "colab": {
      "provenance": []
    },
    "kernelspec": {
      "name": "python3",
      "display_name": "Python 3"
    },
    "language_info": {
      "name": "python"
    }
  },
  "cells": [
    {
      "cell_type": "code",
      "execution_count": null,
      "metadata": {
        "colab": {
          "base_uri": "https://localhost:8080/"
        },
        "id": "vW51IhYhe3O9",
        "outputId": "52ed7575-08bd-46b2-ff8c-e77fd70d98da"
      },
      "outputs": [
        {
          "output_type": "stream",
          "name": "stdout",
          "text": [
            "4\n",
            "3\n",
            "2\n",
            "1\n",
            "The stop_number reached stop_number so the while loops condition beacme false and stopped execution\n"
          ]
        }
      ],
      "source": [
        "#while loops break and continue.\n",
        "#can be used to run a code until a certain condition is not true\n",
        "#it needs a condition to know when to stop\n",
        "stop_number = 4\n",
        "while stop_number >0:\n",
        "  print(stop_number)\n",
        "  stop_number -=1\n",
        "print('The stop_number reached', 'stop_number', 'so the while loops condition beacme false and stopped execution')\n"
      ]
    },
    {
      "cell_type": "code",
      "source": [
        "hydration = 0\n",
        "water = 1\n",
        "while hydration <100 and water >0:\n",
        "  print(\"....sips water...\")\n",
        "  water -=0.1\n",
        "  print('that wa refreshing')\n",
        "  hydration +=10\n",
        "  print('hydration is now at', 'hydration', '%/n')\n"
      ],
      "metadata": {
        "colab": {
          "base_uri": "https://localhost:8080/"
        },
        "id": "zfHgOpVfc2_c",
        "outputId": "4ae74195-08de-4cb8-f154-11e04c72b590"
      },
      "execution_count": 4,
      "outputs": [
        {
          "output_type": "stream",
          "name": "stdout",
          "text": [
            "....sips water...\n",
            "that wa refreshing\n",
            "hydration is now at hydration %/n\n",
            "....sips water...\n",
            "that wa refreshing\n",
            "hydration is now at hydration %/n\n",
            "....sips water...\n",
            "that wa refreshing\n",
            "hydration is now at hydration %/n\n",
            "....sips water...\n",
            "that wa refreshing\n",
            "hydration is now at hydration %/n\n",
            "....sips water...\n",
            "that wa refreshing\n",
            "hydration is now at hydration %/n\n",
            "....sips water...\n",
            "that wa refreshing\n",
            "hydration is now at hydration %/n\n",
            "....sips water...\n",
            "that wa refreshing\n",
            "hydration is now at hydration %/n\n",
            "....sips water...\n",
            "that wa refreshing\n",
            "hydration is now at hydration %/n\n",
            "....sips water...\n",
            "that wa refreshing\n",
            "hydration is now at hydration %/n\n",
            "....sips water...\n",
            "that wa refreshing\n",
            "hydration is now at hydration %/n\n"
          ]
        }
      ]
    },
    {
      "cell_type": "code",
      "source": [
        "#break and continue are used in tandem with if ,elif and else conditional flows\n",
        "numbers= (range(0,30))\n",
        "new_list =[]\n",
        "for num in numbers:\n",
        "  if len(new_list) >4:\n",
        "    print(f'we have enough even numbers in new_list  ({len(new_list)}).break will stop for the loop now')\n",
        "    break\n",
        "  elif num % 2== 0:\n",
        "   new_list.append(num)\n",
        "  elif num % 2  != 0:\n",
        "    continue\n",
        "    print('I never get executed')\n",
        "  print('num is even')\n",
        "  print('this does not print for odd numbers')"
      ],
      "metadata": {
        "colab": {
          "base_uri": "https://localhost:8080/"
        },
        "id": "vCLC9Xaseot1",
        "outputId": "4f26be64-37e9-4327-dda0-2816783b27bb"
      },
      "execution_count": 13,
      "outputs": [
        {
          "output_type": "stream",
          "name": "stdout",
          "text": [
            "num is even\n",
            "this does not print for odd numbers\n",
            "num is even\n",
            "this does not print for odd numbers\n",
            "num is even\n",
            "this does not print for odd numbers\n",
            "num is even\n",
            "this does not print for odd numbers\n",
            "num is even\n",
            "this does not print for odd numbers\n",
            "we have enough even numbers in new_list  (5).break will stop for the loop now\n"
          ]
        }
      ]
    },
    {
      "cell_type": "code",
      "source": [
        "for i in list(range (0,5)):\n",
        "  if True :\n",
        "    print(i)\n",
        "  print('Since we do not have continue statement, /n this line will always print')"
      ],
      "metadata": {
        "colab": {
          "base_uri": "https://localhost:8080/"
        },
        "id": "8kzgIbfblTub",
        "outputId": "18c25ccd-bbc0-4e91-f3ae-1a58016bb5b8"
      },
      "execution_count": 16,
      "outputs": [
        {
          "output_type": "stream",
          "name": "stdout",
          "text": [
            "0\n",
            "Since we do not have continue statement, /n this line will always print\n",
            "1\n",
            "Since we do not have continue statement, /n this line will always print\n",
            "2\n",
            "Since we do not have continue statement, /n this line will always print\n",
            "3\n",
            "Since we do not have continue statement, /n this line will always print\n",
            "4\n",
            "Since we do not have continue statement, /n this line will always print\n"
          ]
        }
      ]
    },
    {
      "cell_type": "code",
      "source": [
        "for i in list(range(0,5)):\n",
        " if True:\n",
        "   print(i)\n",
        "   continue\n",
        "print('I will never get executed')\n"
      ],
      "metadata": {
        "colab": {
          "base_uri": "https://localhost:8080/"
        },
        "id": "xpBkJ85smsTm",
        "outputId": "8f1f020f-0829-466b-ce60-b792cb505e26"
      },
      "execution_count": 21,
      "outputs": [
        {
          "output_type": "stream",
          "name": "stdout",
          "text": [
            "0\n",
            "1\n",
            "2\n",
            "3\n",
            "4\n",
            "I will never get executed\n"
          ]
        }
      ]
    },
    {
      "cell_type": "code",
      "source": [
        "for i in list(range(0,5)):\n",
        "  if True:\n",
        "     print(i)\n",
        "     break\n",
        "  print('i will never get executed')\n",
        ""
      ],
      "metadata": {
        "colab": {
          "base_uri": "https://localhost:8080/"
        },
        "id": "JjvaMPIFn1Yo",
        "outputId": "995ac13c-9521-48a8-fe14-5808d5a73f1a"
      },
      "execution_count": 22,
      "outputs": [
        {
          "output_type": "stream",
          "name": "stdout",
          "text": [
            "0\n"
          ]
        }
      ]
    },
    {
      "cell_type": "code",
      "source": [
        "names = []"
      ],
      "metadata": {
        "id": "tA0dKFx9oxTg"
      },
      "execution_count": null,
      "outputs": []
    },
    {
      "cell_type": "code",
      "source": [],
      "metadata": {
        "id": "nSFj_-eGpvOc"
      },
      "execution_count": null,
      "outputs": []
    },
    {
      "cell_type": "code",
      "source": [
        "\n"
      ],
      "metadata": {
        "id": "E3i645x5fPDd"
      },
      "execution_count": null,
      "outputs": []
    }
  ]
}